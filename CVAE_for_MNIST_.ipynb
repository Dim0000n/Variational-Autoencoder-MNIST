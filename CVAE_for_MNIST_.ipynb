{
  "nbformat": 4,
  "nbformat_minor": 0,
  "metadata": {
    "colab": {
      "name": "CVAE for MNIST .ipynb",
      "provenance": [],
      "collapsed_sections": [
        "u0LRfgC0j3kk"
      ],
      "include_colab_link": true
    },
    "kernelspec": {
      "name": "python3",
      "display_name": "Python 3"
    },
    "language_info": {
      "name": "python"
    },
    "accelerator": "GPU"
  },
  "cells": [
    {
      "cell_type": "markdown",
      "metadata": {
        "id": "view-in-github",
        "colab_type": "text"
      },
      "source": [
        "<a href=\"https://colab.research.google.com/github/Dim0000n/Variational-Autoencoder-MNIST/blob/main/CVAE_for_MNIST_.ipynb\" target=\"_parent\"><img src=\"https://colab.research.google.com/assets/colab-badge.svg\" alt=\"Open In Colab\"/></a>"
      ]
    },
    {
      "cell_type": "code",
      "metadata": {
        "id": "pHFFSKqfkyR8"
      },
      "source": [
        "import numpy as np\n",
        "import matplotlib.pyplot as plt\n",
        "from IPython.display import clear_output\n",
        "%matplotlib inline\n",
        "\n",
        "import tensorflow as tf\n",
        "from tensorflow import keras\n",
        "from keras.models import Model\n",
        "from keras import layers\n",
        "from keras.layers import Input, Flatten,Dense,Dropout,BatchNormalization,Reshape,concatenate\n",
        "from keras.layers.advanced_activations import LeakyReLU\n",
        "from keras.optimizers import Adam\n",
        "from keras.callbacks import LambdaCallback\n",
        "\n",
        "from keras.datasets import mnist\n",
        "from keras import utils"
      ],
      "execution_count": 1,
      "outputs": []
    },
    {
      "cell_type": "markdown",
      "metadata": {
        "id": "XgUoNxv8V1aR"
      },
      "source": [
        "#Uploading and preprocessing"
      ]
    },
    {
      "cell_type": "code",
      "metadata": {
        "id": "VDo9_siGGWum",
        "colab": {
          "base_uri": "https://localhost:8080/"
        },
        "outputId": "7ac3ed8b-96bc-418d-eb74-79a3216c9bf6"
      },
      "source": [
        "\n",
        "(xTrain,yTrain),(xTest,yTest)=mnist.load_data()\n",
        "\n",
        "xTrain=xTrain.astype(\"float32\")/255.\n",
        "xTest=xTest.astype(\"float32\")/255.\n",
        "xTrain=np.reshape(xTrain,(len(xTrain),28,28,1))\n",
        "xTest=np.reshape(xTest,(len(xTest),28,28,1))\n",
        "\n",
        "yTrain=utils.to_categorical(yTrain).astype(np.float32)\n",
        "yTest=utils.to_categorical(yTest).astype(np.float32)\n",
        "num_classes=yTest.shape[1]"
      ],
      "execution_count": 2,
      "outputs": [
        {
          "output_type": "stream",
          "text": [
            "Downloading data from https://storage.googleapis.com/tensorflow/tf-keras-datasets/mnist.npz\n",
            "11493376/11490434 [==============================] - 0s 0us/step\n"
          ],
          "name": "stdout"
        }
      ]
    },
    {
      "cell_type": "markdown",
      "metadata": {
        "id": "40XSG49AU8TB"
      },
      "source": [
        "#Classes Smpling and Vae"
      ]
    },
    {
      "cell_type": "code",
      "metadata": {
        "id": "6aLHBx5AlVqj"
      },
      "source": [
        "#Creating Sampling layer\n",
        "class Sampling(layers.Layer):\n",
        "\n",
        "  def call(self,inputs):\n",
        "    z_mean,z_log_var=inputs\n",
        "    batch=tf.shape(z_mean)[0]  \n",
        "    dim=tf.shape(z_mean)[1]\n",
        "    epsilon=tf.keras.backend.random_normal(shape=(batch,dim)) \n",
        "    \n",
        "    return z_mean+tf.exp(0.5*z_log_var)*epsilon  "
      ],
      "execution_count": 3,
      "outputs": []
    },
    {
      "cell_type": "code",
      "metadata": {
        "id": "YMgx_rL7JR3P"
      },
      "source": [
        "#Creating Model class \n",
        "class VAE(keras.Model):\n",
        "    #initializing\n",
        "    def __init__(self, encoder, decoder, **kwargs):\n",
        "        super(VAE, self).__init__(**kwargs)\n",
        "        self.encoder = encoder \n",
        "        self.decoder = decoder \n",
        "        self.total_loss_tracker = keras.metrics.Mean(name=\"total_loss\")\n",
        "        self.total_val_loss_tracker = keras.metrics.Mean(name=\"val_total_loss\")\n",
        "\n",
        "    @property\n",
        "    def metrics(self): \n",
        "        return [\n",
        "            self.total_loss_tracker,\n",
        "            self.total_val_loss_tracker\n",
        "        ]\n",
        "\n",
        "    def train_step(self, data): #Train step definition\n",
        "        with tf.GradientTape() as tape:\n",
        "            \n",
        "            self.data1=data\n",
        "            z_mean, z_log_var, z = self.encoder(data) \n",
        "            reconstruction = self.decoder([z,data[0][1]]) \n",
        "            reconstruction_loss = tf.reduce_mean(  \n",
        "                tf.reduce_sum(\n",
        "                    keras.losses.binary_crossentropy(data[0][0], reconstruction), axis=(1, 2)\n",
        "                )\n",
        "            )\n",
        "            kl_loss = -0.5 * (1 + z_log_var - tf.square(z_mean) - tf.exp(z_log_var)) \n",
        "            kl_loss = tf.reduce_mean(tf.reduce_sum(kl_loss, axis=1))  \n",
        "            total_loss = (reconstruction_loss + kl_loss)/2/28/28 \n",
        "\n",
        "        grads = tape.gradient(total_loss, self.trainable_weights) \n",
        "        self.optimizer.apply_gradients(zip(grads, self.trainable_weights)) \n",
        "        \n",
        "        self.total_loss_tracker.update_state(total_loss)\n",
        "        return {\n",
        "            \n",
        "            \"loss\": self.total_loss_tracker.result(),\n",
        "            \n",
        "        }\n",
        "       #Test-step definition \n",
        "    def test_step(self, data):\n",
        "      z_mean, z_log_var, z = self.encoder(data)\n",
        "      reconstruction = self.decoder([z,data[0][1]]) \n",
        "      reconstruction_loss = tf.reduce_mean(  \n",
        "        tf.reduce_sum(\n",
        "                  keras.losses.binary_crossentropy(data[0][0], reconstruction), axis=(1, 2)\n",
        "                )\n",
        "            )\n",
        "    \n",
        "      kl_loss = -0.5 * (1 + z_log_var - tf.square(z_mean) - tf.exp(z_log_var)) \n",
        "      kl_loss = tf.reduce_mean(tf.reduce_sum(kl_loss, axis=1)) \n",
        "      val_loss = (reconstruction_loss + kl_loss)/2/28/28 \n",
        "      self.total_val_loss_tracker.update_state(val_loss)\n",
        "      return  {\n",
        "          \"loss\": self.total_val_loss_tracker.result(),\n",
        "      }    \n",
        "\n"
      ],
      "execution_count": 4,
      "outputs": []
    },
    {
      "cell_type": "markdown",
      "metadata": {
        "id": "HxG9GDDimRHW"
      },
      "source": [
        "#Сети"
      ]
    },
    {
      "cell_type": "code",
      "metadata": {
        "id": "xv5sVJAPoEOq"
      },
      "source": [
        "#Parametrs initialization\n",
        "latent_dim=8 #Shape of latent dimention\n",
        "dropout_rate=0.3 \n",
        "start_lr=1e-3"
      ],
      "execution_count": 5,
      "outputs": []
    },
    {
      "cell_type": "markdown",
      "metadata": {
        "id": "ATTM34dtmTl-"
      },
      "source": [
        "##Callback"
      ]
    },
    {
      "cell_type": "code",
      "metadata": {
        "id": "If2TLpPRUAxp"
      },
      "source": [
        "\n",
        "save_epochs=[i*5 for i in range(0,25)]  #Epoch-numbers for images drawing \n",
        "\n",
        "n_compare=10  #number of images\n",
        "\n",
        "def on_epoch_end(epoch,logs):   #callback\n",
        "  if epoch in save_epochs:\n",
        "    clear_output()\n",
        "    _,_,encoded=encoder.predict([xTest[:n_compare],yTest[:n_compare]]) \n",
        "    decoded=decoder.predict([encoded,yTest[:n_compare]])  \n",
        "    plot_digits(xTest[:n_compare],decoded) #drawing images\n",
        "\n",
        "pltFig=LambdaCallback(on_epoch_end=on_epoch_end)"
      ],
      "execution_count": 6,
      "outputs": []
    },
    {
      "cell_type": "code",
      "metadata": {
        "id": "8IY_OwxQZ4Ad"
      },
      "source": [
        "digit_size=28 #digit size\n",
        "\n",
        "#Image drawing function\n",
        "def plot_digits(*args,invert_colors=False):\n",
        "  args=[x.squeeze() for x in args]\n",
        "  n=min([x.shape[0] for x in args ])\n",
        "\n",
        "  figure=np.zeros((digit_size*len(args),digit_size*n))\n",
        "\n",
        "  for i in range(n):\n",
        "    for j in range(len(args)):\n",
        "      figure[j*digit_size:(j+1)*digit_size,i*digit_size:(i+1)*digit_size]=args[j][i].squeeze()\n",
        "\n",
        "  if invert_colors:\n",
        "    figure=1-figure\n",
        "\n",
        "  plt.figure(figsize=(2*n,2*len(args)))\n",
        "  plt.imshow(figure,cmap=\"Greys_r\")\n",
        "  plt.grid(False)\n",
        "  ax=plt.gca()\n",
        "  ax.get_xaxis().set_visible(False)\n",
        "  ax.get_yaxis().set_visible(False)\n",
        "  plt.show()    "
      ],
      "execution_count": 14,
      "outputs": []
    },
    {
      "cell_type": "markdown",
      "metadata": {
        "id": "u0LRfgC0j3kk"
      },
      "source": [
        "## sipmle-CVAE without Dropout"
      ]
    },
    {
      "cell_type": "code",
      "metadata": {
        "id": "HtFoir-7j8kU"
      },
      "source": [
        "\n",
        "\n",
        "#encoder creation\n",
        "\n",
        "encoder_img=Input(shape=(28,28,1)) #Image input\n",
        "flatten_img=Flatten()(encoder_img)\n",
        "encoder_lb=Input(shape=(num_classes,),dtype=\"float32\") #Label input\n",
        "\n",
        "x=concatenate([flatten_img,encoder_lb]) \n",
        "\n",
        "x=Dense(64,activation=\"relu\")(x)\n",
        "\n",
        "# layers z_mean and  z_log_var\n",
        "z_mean=Dense(latent_dim,name=\"z_mean\")(x)\n",
        "z_log_var=layers.Dense(latent_dim,name=\"z_log_var\")(x)\n",
        "\n",
        "#Sampling-layer\n",
        "z=Sampling()([z_mean,z_log_var])\n",
        "\n",
        "encoder=Model([encoder_img,encoder_lb],[z_mean, z_log_var,z],name=\"encoder\")"
      ],
      "execution_count": 15,
      "outputs": []
    },
    {
      "cell_type": "code",
      "metadata": {
        "id": "pX7dcA_4kbgF"
      },
      "source": [
        "#decoder creation\n",
        "decoder_vector=Input(shape=(latent_dim,))  #encoded image vector\n",
        "decoder_lb=Input(shape=(num_classes,),dtype=\"float32\") #label\n",
        "\n",
        "x=concatenate([decoder_vector,decoder_lb]) #объединение выходов\n",
        "\n",
        "x=Dense(64)(x)\n",
        "x=LeakyReLU()(x)\n",
        "\n",
        "x=Dense(28*28,activation=\"sigmoid\")(x)\n",
        "decoder_outputs=Reshape((28,28,1))(x)\n",
        "\n",
        "decoder=Model([decoder_vector,decoder_lb],decoder_outputs,name=\"decoder\")\n"
      ],
      "execution_count": 16,
      "outputs": []
    },
    {
      "cell_type": "code",
      "metadata": {
        "colab": {
          "base_uri": "https://localhost:8080/",
          "height": 386
        },
        "id": "w0IKdBwWkjv9",
        "outputId": "b4aef858-d35e-4d62-9f13-aba22f92511e"
      },
      "source": [
        "scvae=VAE(encoder,decoder) #Создадим объект\n",
        "scvae.compile(optimizer=Adam(lr=start_lr)) #компиляция\n",
        "shistory=scvae.fit([xTrain,yTrain],epochs=30, batch_size=128,validation_data=([xTest,yTest]),callbacks=[pltFig]) #обучение "
      ],
      "execution_count": 17,
      "outputs": [
        {
          "output_type": "display_data",
          "data": {
            "image/png": "[encoded data removed]",
            "text/plain": [
              "<Figure size 1440x288 with 1 Axes>"
            ]
          },
          "metadata": {
            "tags": [],
            "needs_background": "light"
          }
        },
        {
          "output_type": "stream",
          "text": [
            "Epoch 27/30\n",
            "469/469 [==============================] - 2s 5ms/step - loss: 0.0736 - val_loss: 0.0731\n",
            "Epoch 28/30\n",
            "469/469 [==============================] - 2s 5ms/step - loss: 0.0736 - val_loss: 0.0730\n",
            "Epoch 29/30\n",
            "469/469 [==============================] - 2s 5ms/step - loss: 0.0735 - val_loss: 0.0729\n",
            "Epoch 30/30\n",
            "469/469 [==============================] - 2s 5ms/step - loss: 0.0735 - val_loss: 0.0728\n"
          ],
          "name": "stdout"
        }
      ]
    },
    {
      "cell_type": "code",
      "metadata": {
        "colab": {
          "base_uri": "https://localhost:8080/",
          "height": 442
        },
        "id": "R-TvjGkFlMwV",
        "outputId": "328178b1-22d9-4f52-de61-85674a8b9e43"
      },
      "source": [
        "plt.figure(figsize=(10,7))\n",
        "plt.plot(shistory.history[\"loss\"],label=\"Обучающая выборка\")\n",
        "plt.plot(shistory.history[\"val_loss\"],label=\"Проверочная выборка\")\n",
        "plt.xlabel(\"Эпохи\")\n",
        "plt.ylabel(\"Ошибка\")\n",
        "plt.legend()\n",
        "plt.show()"
      ],
      "execution_count": 18,
      "outputs": [
        {
          "output_type": "display_data",
          "data": {
            "image/png": "[encoded data removed]",
            "text/plain": [
              "<Figure size 720x504 with 1 Axes>"
            ]
          },
          "metadata": {
            "tags": [],
            "needs_background": "light"
          }
        }
      ]
    },
    {
      "cell_type": "markdown",
      "metadata": {
        "id": "blfHehZ1l5SW"
      },
      "source": [
        "##complex-CVAE with dropout"
      ]
    },
    {
      "cell_type": "code",
      "metadata": {
        "id": "4-MV1JQPm64R"
      },
      "source": [
        "\n",
        "\n",
        "#encoder creation\n",
        "\n",
        "encoder_img=Input(shape=(28,28,1)) #image input\n",
        "flatten_img=Flatten()(encoder_img)\n",
        "encoder_lb=Input(shape=(num_classes,),dtype=\"float32\") #label input\n",
        "\n",
        "x=concatenate([flatten_img,encoder_lb]) #слой объединения\n",
        "\n",
        "x=Dense(256,activation=\"relu\")(x)\n",
        "x=Dropout(dropout_rate)(x)\n",
        "x=Dense(128,activation=\"relu\")(x)\n",
        "x=Dropout(dropout_rate)(x)\n",
        "\n",
        "#  z_mean and  z_log_var\n",
        "z_mean=Dense(latent_dim,name=\"z_mean\")(x)\n",
        "z_log_var=layers.Dense(latent_dim,name=\"z_log_var\")(x)\n",
        "\n",
        "# Smpling\n",
        "z=Sampling()([z_mean,z_log_var])\n",
        "\n",
        "encoder=Model([encoder_img,encoder_lb],[z_mean, z_log_var,z],name=\"encoder\")\n"
      ],
      "execution_count": 23,
      "outputs": []
    },
    {
      "cell_type": "code",
      "metadata": {
        "id": "LbNABqArp8FV"
      },
      "source": [
        "#decoder creation\n",
        "decoder_vector=Input(shape=(latent_dim,))  #encoded image \n",
        "decoder_lb=Input(shape=(num_classes,),dtype=\"float32\") #label\n",
        "\n",
        "x=concatenate([decoder_vector,decoder_lb]) \n",
        "x=Dense(256)(x)\n",
        "x=LeakyReLU()(x)\n",
        "x=Dense(128)(x)\n",
        "x=LeakyReLU()(x)\n",
        "x=Dropout(dropout_rate)(x)\n",
        "x=Dense(28*28,activation=\"sigmoid\")(x)\n",
        "decoder_outputs=Reshape((28,28,1))(x)\n",
        "\n",
        "decoder=Model([decoder_vector,decoder_lb],decoder_outputs,name=\"decoder\")\n",
        "\n"
      ],
      "execution_count": 24,
      "outputs": []
    },
    {
      "cell_type": "code",
      "metadata": {
        "id": "uu8XbAF5HpEj"
      },
      "source": [
        "cvae=VAE(encoder,decoder) #Object "
      ],
      "execution_count": 25,
      "outputs": []
    },
    {
      "cell_type": "code",
      "metadata": {
        "id": "49jHPd8ZH4G4"
      },
      "source": [
        "cvae.compile(optimizer=Adam(lr=start_lr)) "
      ],
      "execution_count": 26,
      "outputs": []
    },
    {
      "cell_type": "code",
      "metadata": {
        "colab": {
          "base_uri": "https://localhost:8080/",
          "height": 386
        },
        "id": "h-0XceXyKBbo",
        "outputId": "6214679d-c612-4737-f7ff-116f45308ab8"
      },
      "source": [
        "history=cvae.fit([xTrain,yTrain],epochs=60, batch_size=128,validation_data=([xTest,yTest]),callbacks=[pltFig]) #training"
      ],
      "execution_count": 27,
      "outputs": [
        {
          "output_type": "display_data",
          "data": {
            "image/png": "[encoded data removed]",
            "text/plain": [
              "<Figure size 1440x288 with 1 Axes>"
            ]
          },
          "metadata": {
            "tags": [],
            "needs_background": "light"
          }
        },
        {
          "output_type": "stream",
          "text": [
            "Epoch 57/60\n",
            "469/469 [==============================] - 2s 5ms/step - loss: 0.0636 - val_loss: 0.0640\n",
            "Epoch 58/60\n",
            "469/469 [==============================] - 3s 5ms/step - loss: 0.0635 - val_loss: 0.0640\n",
            "Epoch 59/60\n",
            "469/469 [==============================] - 2s 5ms/step - loss: 0.0635 - val_loss: 0.0638\n",
            "Epoch 60/60\n",
            "469/469 [==============================] - 2s 5ms/step - loss: 0.0635 - val_loss: 0.0638\n"
          ],
          "name": "stdout"
        }
      ]
    },
    {
      "cell_type": "code",
      "metadata": {
        "colab": {
          "base_uri": "https://localhost:8080/",
          "height": 442
        },
        "id": "uQtvlL7cSd15",
        "outputId": "bc204e4b-8851-4009-e016-78c8155b1399"
      },
      "source": [
        "plt.figure(figsize=(10,7))\n",
        "plt.plot(history.history[\"loss\"],label=\"Обучающая выборка\")\n",
        "plt.plot(history.history[\"val_loss\"],label=\"Проверочная выборка\")\n",
        "plt.xlabel(\"Эпохи\")\n",
        "plt.ylabel(\"Ошибка\")\n",
        "plt.legend()\n",
        "plt.show()"
      ],
      "execution_count": 28,
      "outputs": [
        {
          "output_type": "display_data",
          "data": {
            "image/png": "[encoded data removed]",
            "text/plain": [
              "<Figure size 720x504 with 1 Axes>"
            ]
          },
          "metadata": {
            "tags": [],
            "needs_background": "light"
          }
        }
      ]
    },
    {
      "cell_type": "markdown",
      "metadata": {
        "id": "oCdasnGlmhRx"
      },
      "source": [
        "##Сравнение результатов"
      ]
    },
    {
      "cell_type": "code",
      "metadata": {
        "id": "s35OE-XxUakX"
      },
      "source": [
        "def plotSingleImage(generator,label):\n",
        "  noise=np.random.normal(loc=0,scale=1,size=[1,latent_dim]).reshape(1,latent_dim,1)\n",
        "  lb=np.zeros((1,10,1))\n",
        "  lb[0,label]=1\n",
        "  pred=generator.predict([noise,lb])\n",
        "  plt.imshow(pred.reshape(28,28))"
      ],
      "execution_count": 20,
      "outputs": []
    },
    {
      "cell_type": "code",
      "metadata": {
        "colab": {
          "base_uri": "https://localhost:8080/",
          "height": 265
        },
        "id": "9nHmy3FIh8wU",
        "outputId": "b24d768c-f2bc-4964-816c-62a8f48ba0d9"
      },
      "source": [
        "plotSingleImage(scvae.decoder,7) #simple network"
      ],
      "execution_count": 30,
      "outputs": [
        {
          "output_type": "display_data",
          "data": {
            "image/png": "[encoded data removed]",
            "text/plain": [
              "<Figure size 432x288 with 1 Axes>"
            ]
          },
          "metadata": {
            "tags": [],
            "needs_background": "light"
          }
        }
      ]
    },
    {
      "cell_type": "code",
      "metadata": {
        "colab": {
          "base_uri": "https://localhost:8080/",
          "height": 265
        },
        "id": "frLE7SdmWARs",
        "outputId": "3a958cc3-9eef-48e5-8d87-772438f201df"
      },
      "source": [
        "plotSingleImage(cvae.decoder,8) # with dropout"
      ],
      "execution_count": 36,
      "outputs": [
        {
          "output_type": "display_data",
          "data": {
            "image/png": "[encoded data removed]",
            "text/plain": [
              "<Figure size 432x288 with 1 Axes>"
            ]
          },
          "metadata": {
            "tags": [],
            "needs_background": "light"
          }
        }
      ]
    },
    {
      "cell_type": "markdown",
      "metadata": {
        "id": "6fmeLmtWg4gY"
      },
      "source": [
        "#Digits generation"
      ]
    },
    {
      "cell_type": "code",
      "metadata": {
        "id": "cCXyP0Jfg7zy"
      },
      "source": [
        "#generation of different digits from one normal noise vector\n",
        "rand=np.random.normal(loc=0,scale=1,size=[1,latent_dim])\n",
        "\n",
        "def draw_digit(label):\n",
        "  lb=np.zeros((1,10,1))\n",
        "  lb[0,label]=1\n",
        "  pred=decoder.predict([rand,lb])\n",
        "  plt.imshow(pred.reshape(28,28))\n",
        "  plt.show()"
      ],
      "execution_count": 44,
      "outputs": []
    },
    {
      "cell_type": "code",
      "metadata": {
        "colab": {
          "base_uri": "https://localhost:8080/",
          "height": 265
        },
        "id": "XgNGIxcFnJM-",
        "outputId": "489208d9-2a8a-44aa-b6e5-a7276f537145"
      },
      "source": [
        "draw_digit(0)"
      ],
      "execution_count": 45,
      "outputs": [
        {
          "output_type": "display_data",
          "data": {
            "image/png": "[encoded data removed]",
            "text/plain": [
              "<Figure size 432x288 with 1 Axes>"
            ]
          },
          "metadata": {
            "tags": [],
            "needs_background": "light"
          }
        }
      ]
    },
    {
      "cell_type": "code",
      "metadata": {
        "colab": {
          "base_uri": "https://localhost:8080/",
          "height": 265
        },
        "id": "5HfCN1bxnQih",
        "outputId": "b8c22adf-9c2d-4440-f9b8-eb32623d8e79"
      },
      "source": [
        "draw_digit(5)"
      ],
      "execution_count": 46,
      "outputs": [
        {
          "output_type": "display_data",
          "data": {
            "image/png": "[encoded data removed]",
            "text/plain": [
              "<Figure size 432x288 with 1 Axes>"
            ]
          },
          "metadata": {
            "tags": [],
            "needs_background": "light"
          }
        }
      ]
    },
    {
      "cell_type": "code",
      "metadata": {
        "colab": {
          "base_uri": "https://localhost:8080/",
          "height": 265
        },
        "id": "0kCCM3KonVHh",
        "outputId": "78eb0cc2-f135-496b-bcb1-0acb6bf80428"
      },
      "source": [
        "draw_digit(7)"
      ],
      "execution_count": 47,
      "outputs": [
        {
          "output_type": "display_data",
          "data": {
            "image/png": "[encoded data removed]",
            "text/plain": [
              "<Figure size 432x288 with 1 Axes>"
            ]
          },
          "metadata": {
            "tags": [],
            "needs_background": "light"
          }
        }
      ]
    },
    {
      "cell_type": "code",
      "metadata": {
        "colab": {
          "base_uri": "https://localhost:8080/",
          "height": 265
        },
        "id": "v7icKXhTnYKy",
        "outputId": "4164f528-276f-4113-c5c7-076619492a39"
      },
      "source": [
        "draw_digit(3)"
      ],
      "execution_count": 48,
      "outputs": [
        {
          "output_type": "display_data",
          "data": {
            "image/png": "[encoded data removed]",
            "text/plain": [
              "<Figure size 432x288 with 1 Axes>"
            ]
          },
          "metadata": {
            "tags": [],
            "needs_background": "light"
          }
        }
      ]
    },
    {
      "cell_type": "code",
      "metadata": {
        "colab": {
          "base_uri": "https://localhost:8080/",
          "height": 265
        },
        "id": "LO_NS2LWnbgr",
        "outputId": "afa33904-5de9-4c72-f246-50a79a7cf339"
      },
      "source": [
        "draw_digit(1)"
      ],
      "execution_count": 49,
      "outputs": [
        {
          "output_type": "display_data",
          "data": {
            "image/png": "[encoded data removed]",
            "text/plain": [
              "<Figure size 432x288 with 1 Axes>"
            ]
          },
          "metadata": {
            "tags": [],
            "needs_background": "light"
          }
        }
      ]
    }
  ]
}