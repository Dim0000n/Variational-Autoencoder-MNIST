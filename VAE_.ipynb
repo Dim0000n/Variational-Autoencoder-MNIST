{
  "nbformat": 4,
  "nbformat_minor": 0,
  "metadata": {
    "colab": {
      "name": "VAE .ipynb",
      "provenance": [],
      "include_colab_link": true
    },
    "kernelspec": {
      "name": "python3",
      "display_name": "Python 3"
    },
    "language_info": {
      "name": "python"
    },
    "accelerator": "GPU"
  },
  "cells": [
    {
      "cell_type": "markdown",
      "metadata": {
        "id": "view-in-github",
        "colab_type": "text"
      },
      "source": [
        "<a href=\"https://colab.research.google.com/github/Dim0000n/Variational-Autoencoder-MNIST/blob/main/VAE_.ipynb\" target=\"_parent\"><img src=\"https://colab.research.google.com/assets/colab-badge.svg\" alt=\"Open In Colab\"/></a>"
      ]
    },
    {
      "cell_type": "code",
      "metadata": {
        "id": "pHFFSKqfkyR8"
      },
      "source": [
        "import numpy as np\n",
        "import matplotlib.pyplot as plt\n",
        "from IPython.display import clear_output\n",
        "%matplotlib inline\n",
        "\n",
        "import tensorflow as tf\n",
        "from tensorflow import keras\n",
        "from keras.models import Model\n",
        "from keras import layers\n",
        "from keras.layers import Input, Flatten,Dense,Dropout,BatchNormalization,Reshape\n",
        "from keras.layers.advanced_activations import LeakyReLU\n",
        "from keras.optimizers import Adam\n",
        "from keras.callbacks import LambdaCallback\n",
        "\n",
        "from keras.datasets import mnist"
      ],
      "execution_count": null,
      "outputs": []
    },
    {
      "cell_type": "code",
      "metadata": {
        "id": "xv5sVJAPoEOq"
      },
      "source": [
        "#задаем  параеметры\n",
        "batch_size=100\n",
        "latent_dim=10\n",
        "dropout_rate=0.3\n",
        "start_lr=1e-4"
      ],
      "execution_count": null,
      "outputs": []
    },
    {
      "cell_type": "code",
      "metadata": {
        "id": "6aLHBx5AlVqj"
      },
      "source": [
        "#создание слоя сэмплинга\n",
        "class Sampling(layers.Layer):\n",
        "\n",
        "  def call(self,inputs):\n",
        "    z_mean,z_log_var=inputs\n",
        "    batch=tf.shape(z_mean)[0]  #размерность z_mean для создания нормального распределения\n",
        "    dim=tf.shape(z_mean)[1]\n",
        "    epsilon=tf.keras.backend.random_normal(shape=(batch,dim)) #создание нормального распределния\n",
        "    \n",
        "    return z_mean+tf.exp(0.5*z_log_var)*epsilon #возращаем значения слоя "
      ],
      "execution_count": null,
      "outputs": []
    },
    {
      "cell_type": "code",
      "metadata": {
        "id": "4-MV1JQPm64R"
      },
      "source": [
        "#создание Dropout и BatchNormalization\n",
        "def apply_bn_and_dropout(x):\n",
        "  return Dropout(dropout_rate) (BatchNormalization()(x))\n",
        "\n",
        "#создание encoder\n",
        "\n",
        "encoder_inputs=Input(shape=(28,28,1))\n",
        "x=Flatten()(encoder_inputs)\n",
        "x=Dense(256,activation=\"relu\")(x)\n",
        "x=apply_bn_and_dropout(x)\n",
        "x=Dense(128,activation=\"relu\")(x)\n",
        "x=apply_bn_and_dropout(x)\n",
        "# слои z_mean и  z_log_var\n",
        "z_mean=Dense(latent_dim,name=\"z_mean\")(x)\n",
        "z_log_var=layers.Dense(latent_dim,name=\"z_log_var\")(x)\n",
        "\n",
        "#слой Smpling\n",
        "z=Sampling()([z_mean,z_log_var])\n",
        "\n",
        "encoder=Model(encoder_inputs,[z_mean, z_log_var,z],name=\"encoder\")\n"
      ],
      "execution_count": null,
      "outputs": []
    },
    {
      "cell_type": "code",
      "metadata": {
        "id": "LbNABqArp8FV"
      },
      "source": [
        "#создание decoder\n",
        "decoder_inputs=Input(shape=(latent_dim,))\n",
        "x=Dense(128)(decoder_inputs)\n",
        "x=LeakyReLU()(x)\n",
        "x=apply_bn_and_dropout(x)\n",
        "x=Dense(256)(x)\n",
        "x=LeakyReLU()(x)\n",
        "x=apply_bn_and_dropout(x)\n",
        "x=Dense(28*28,activation=\"sigmoid\")(x)\n",
        "decoder_outputs=Reshape((28,28,1))(x)\n",
        "\n",
        "decoder=Model(decoder_inputs,decoder_outputs,name=\"decoder\")"
      ],
      "execution_count": null,
      "outputs": []
    },
    {
      "cell_type": "code",
      "metadata": {
        "id": "P4P9VW15snSO"
      },
      "source": [
        "#Создание класса модели со своим train_step \n",
        "\n",
        "class VAE(keras.Model):\n",
        "  def __init__(self,encoder,decoder,**kwargs):\n",
        "    super(VAE,self).__init__(**kwargs)\n",
        "    self.encoder=encoder  #присваивание encoder атрибуту класса\n",
        "    self.decoder=decoder  #присваивание decoder атрибуту класса\n",
        "    #создание трекеров loss-функций\n",
        "    self.total_loss_tracker=keras.metrics.Mean(name=\"total_loss\")\n",
        "    self.reconstruction_loss_tracker=keras.metrics.Mean(name=\"reconstruction_loss\")\n",
        "    self.kl_loss_tracker=keras.metrics.Mean(name=\"kl_loss\")\n",
        "\n",
        "    @property\n",
        "    def metrcis(self): #определение свойства объекта metrics\n",
        "      return[\n",
        "             self.total_loss_tracker,\n",
        "             self.reconstruction_loss_tracker,\n",
        "             self.kl_loss_tracker,\n",
        "      ]\n",
        "\n",
        "    def train_step(self,data):  #определение train_step\n",
        "      with tf.GradientTape() as tape:\n",
        "        z_mean,z_log_var,z=self.encoder(data) #получение z_mean,z_log_var и z\n",
        "        reconstruction=self.decoder(z) #получение выходных данных\n",
        "        reconstruction_loss=tf.reduce_mean(tf.reduce_sum(\n",
        "            keras.losses.binary_crossentropy(data,reconstruction),axis(1,2)) #расчитываем среднюю по суммам ошибку рекострукции\n",
        "        )\n",
        "        kl_loss=-0.5*(1+z_log_var-tf.square(z_mean)-tf.exp(z_log_var)) #рассчитываем расстояние Kullback_Leibler\n",
        "        kl_loss=tf.reduce_mean(tf.reduce_sum(kl_loss,axis=1)) #вычисляем среднее по суммам \n",
        "        total_loss=reconstruction_loss+kl_loss #суммируем ошибки\n",
        "      \n",
        "      grads=tape.gradient(total_loss,self.trainable_weights) #вычисление градиентов\n",
        "      self.optimizer.apply_gradients(zip(grads,self.trainable_weights)) #применение вычисленных градиентов к весам\n",
        "      #обновление трекеров\n",
        "      self.total_loss_tracker.update_state(total_loss)  \n",
        "      self.reconstruction_loss_tracker.update_state(recunstruction_loss)\n",
        "      self.kl_loss_tracker.update_state(kl_loss)\n",
        "      return {\n",
        "          #вычисление средних loss\n",
        "          \"loss\":self.total_loss_tracker.result(),\n",
        "          \"reconsruction_loss\":self.reconstruction_loss_tracker.result(),\n",
        "          \"kl_loss\":self.kl_loss_tracker.result(),}\n"
      ],
      "execution_count": null,
      "outputs": []
    },
    {
      "cell_type": "code",
      "metadata": {
        "id": "YMgx_rL7JR3P"
      },
      "source": [
        "#Создание класса модели со своим train_step \n",
        "class VAE(keras.Model):\n",
        "    def __init__(self, encoder, decoder, **kwargs):\n",
        "        super(VAE, self).__init__(**kwargs)\n",
        "        self.encoder = encoder #присваивание encoder атрибуту класса\n",
        "        self.decoder = decoder #присваивание decoder атрибуту класса\n",
        "        #создание трекеров loss-функций\n",
        "        self.total_loss_tracker = keras.metrics.Mean(name=\"total_loss\")\n",
        "\n",
        "    @property\n",
        "    def metrics(self): #определение свойства объекта metrics\n",
        "        return [\n",
        "            self.total_loss_tracker,\n",
        "        ]\n",
        "\n",
        "    def train_step(self, data): #определение train_step\n",
        "        with tf.GradientTape() as tape:\n",
        "            z_mean, z_log_var, z = self.encoder(data) #получение z_mean,z_log_var и z\n",
        "            reconstruction = self.decoder(z) #получение выходных данных\n",
        "            reconstruction_loss = tf.reduce_mean(  #расчитываем среднюю по суммам ошибку рекострукции\n",
        "                tf.reduce_sum(\n",
        "                    keras.losses.binary_crossentropy(data, reconstruction), axis=(1, 2)\n",
        "                )\n",
        "            )\n",
        "            kl_loss = -0.5 * (1 + z_log_var - tf.square(z_mean) - tf.exp(z_log_var)) #рассчитываем расстояние Kullback_Leibler\n",
        "            kl_loss = tf.reduce_mean(tf.reduce_sum(kl_loss, axis=1)) #вычисляем среднее по суммам \n",
        "            total_loss = reconstruction_loss + kl_loss #суммируем ошибки\n",
        "\n",
        "        grads = tape.gradient(total_loss, self.trainable_weights) #вычисление градиентов\n",
        "        self.optimizer.apply_gradients(zip(grads, self.trainable_weights)) #применение вычисленных градиентов к весам\n",
        "        #обновление трекера\n",
        "        self.total_loss_tracker.update_state(total_loss)\n",
        "        return {\n",
        "            #вычисление средней loss\n",
        "            \"loss\": self.total_loss_tracker.result(),\n",
        "        }\n",
        "       #переопределим call \n",
        "    def call(self, data):\n",
        "      z_mean, z_log_var, z = self.encoder(data)\n",
        "     \n",
        "      reconstruction = self.decoder(z) #получение выходных данных\n",
        "      reconstruction_loss = tf.reduce_mean(  #расчитываем среднюю по суммам ошибку рекострукции\n",
        "        tf.reduce_sum(\n",
        "                  keras.losses.binary_crossentropy(data, reconstruction), axis=(1, 2)\n",
        "                )\n",
        "            )\n",
        "    \n",
        "      kl_loss = -0.5 * (1 + z_log_var - tf.square(z_mean) - tf.exp(z_log_var)) #рассчитываем расстояние Kullback_Leibler\n",
        "      kl_loss = tf.reduce_mean(tf.reduce_sum(kl_loss, axis=1)) #вычисляем среднее по суммам \n",
        "      val_loss = reconstruction_loss + kl_loss #суммируем ошибки\n",
        "      self.total_loss_tracker.update_state(val_loss)\n",
        "      \n",
        "\n"
      ],
      "execution_count": null,
      "outputs": []
    },
    {
      "cell_type": "code",
      "metadata": {
        "id": "8IY_OwxQZ4Ad"
      },
      "source": [
        "digit_size=28 #размер цифры\n",
        "\n",
        "#функция отрисовки картинок для callback\n",
        "def plot_digits(*args,invert_colors=False):\n",
        "  args=[x.squeeze() for x in args]\n",
        "  n=min([x.shape[0] for x in args ])\n",
        "\n",
        "  figure=np.zeros((digit_size*len(args),digit_size*n))\n",
        "\n",
        "  for i in range(n):\n",
        "    for j in range(len(args)):\n",
        "      figure[j*digit_size:(j+1)*digit_size,i*digit_size:(i+1)*digit_size]=args[j][i].squeeze()\n",
        "\n",
        "  if invert_colors:\n",
        "    figure=1-figure\n",
        "\n",
        "  plt.figure(figsize=(2*n,2*len(args)))\n",
        "  plt.imshow(figure,cmap=\"Greys_r\")\n",
        "  plt.grid(False)\n",
        "  ax=plt.gca()\n",
        "  ax.get_xaxis().set_visible(False)\n",
        "  ax.get_yaxis().set_visible(False)\n",
        "  plt.show()    "
      ],
      "execution_count": null,
      "outputs": []
    },
    {
      "cell_type": "code",
      "metadata": {
        "id": "If2TLpPRUAxp"
      },
      "source": [
        "\n",
        "save_epochs=[i*5 for i in range(0,25)]  #номера эпох для отрисовки картинок\n",
        "\n",
        "n_compare=10  #количесвто картинок для сохранения\n",
        "\n",
        "def on_epoch_end(epoch,logs):   #callback\n",
        "  if epoch in save_epochs:\n",
        "    clear_output()\n",
        "    _,_,encoded=vae.encoder.predict(xTest[:n_compare]) #получим закодированные вектор\n",
        "    decoded=vae.decoder.predict(encoded)  #получим \n",
        "    plot_digits(xTest[:n_compare],decoded)\n",
        "\n",
        "pltFig=LambdaCallback(on_epoch_end=on_epoch_end)"
      ],
      "execution_count": null,
      "outputs": []
    },
    {
      "cell_type": "code",
      "metadata": {
        "id": "VDo9_siGGWum",
        "colab": {
          "base_uri": "https://localhost:8080/"
        },
        "outputId": "d61b19b9-33de-434a-b4a9-55f750c521ae"
      },
      "source": [
        "#загрузка данных\n",
        "(xTrain,_),(xTest,_)=mnist.load_data()\n",
        "\n",
        "xTrain=xTrain.astype(\"float32\")/255.\n",
        "xTest=xTest.astype(\"float32\")/255.\n",
        "\n",
        "xTrain=np.reshape(xTrain,(len(xTrain),28,28,1))\n",
        "xTest=np.reshape(xTest,(len(xTest),28,28,1))"
      ],
      "execution_count": null,
      "outputs": [
        {
          "output_type": "stream",
          "text": [
            "Downloading data from https://storage.googleapis.com/tensorflow/tf-keras-datasets/mnist.npz\n",
            "11493376/11490434 [==============================] - 0s 0us/step\n"
          ],
          "name": "stdout"
        }
      ]
    },
    {
      "cell_type": "code",
      "metadata": {
        "id": "uu8XbAF5HpEj"
      },
      "source": [
        "vae=VAE(encoder,decoder) #Создадим объект"
      ],
      "execution_count": null,
      "outputs": []
    },
    {
      "cell_type": "code",
      "metadata": {
        "id": "49jHPd8ZH4G4"
      },
      "source": [
        "vae.compile(optimizer=Adam(lr=start_lr)) #компиляция "
      ],
      "execution_count": null,
      "outputs": []
    },
    {
      "cell_type": "code",
      "metadata": {
        "colab": {
          "base_uri": "https://localhost:8080/",
          "height": 403
        },
        "id": "h-0XceXyKBbo",
        "outputId": "10bec228-b1e1-434a-f94d-bceb1dc48ac0"
      },
      "source": [
        "vae.fit(xTrain,epochs=30, batch_size=128,validation_data=(xTest,xTest),callbacks=[pltFig]) #обучение"
      ],
      "execution_count": null,
      "outputs": [
        {
          "output_type": "display_data",
          "data": {
            "image/png": "[encoded data removed]",
            "text/plain": [
              "<Figure size 1440x288 with 1 Axes>"
            ]
          },
          "metadata": {
            "tags": [],
            "needs_background": "light"
          }
        },
        {
          "output_type": "stream",
          "text": [
            "Epoch 27/30\n",
            "469/469 [==============================] - 3s 6ms/step - loss: 109.7658 - val_total_loss: 109.2608\n",
            "Epoch 28/30\n",
            "469/469 [==============================] - 3s 6ms/step - loss: 109.6827 - val_total_loss: 109.0930\n",
            "Epoch 29/30\n",
            "469/469 [==============================] - 3s 6ms/step - loss: 109.5567 - val_total_loss: 109.0442\n",
            "Epoch 30/30\n",
            "469/469 [==============================] - 3s 6ms/step - loss: 109.6696 - val_total_loss: 109.0601\n"
          ],
          "name": "stdout"
        },
        {
          "output_type": "execute_result",
          "data": {
            "text/plain": [
              "<tensorflow.python.keras.callbacks.History at 0x7f716762f2d0>"
            ]
          },
          "metadata": {
            "tags": []
          },
          "execution_count": 50
        }
      ]
    },
    {
      "cell_type": "code",
      "metadata": {
        "id": "EpycbprSfAXy"
      },
      "source": [
        "#Вывод картинок на экран\n",
        "def plot_images(generator,examples=10,dim=(1,10),figsize=(15,15)):\n",
        "  k=1.1\n",
        "  noise=np.random.normal(loc=0,scale=1,size=[1,latent_dim])\n",
        "\n",
        "  im_arr=[generator.predict((k**i)*noise) for i in range(0,examples)]\n",
        "  im_arr=np.array(im_arr).reshape(examples,28,28)\n",
        "\n",
        "  plt.figure(figsize=figsize)\n",
        "  for i in range(im_arr.shape[0]):\n",
        "    plt.subplot(dim[0],dim[1],i+1)\n",
        "    plt.imshow(im_arr[i],interpolation=\"nearest\")\n",
        "    plt.axis(\"off\")\n",
        "  plt.tight_layout()\n"
      ],
      "execution_count": null,
      "outputs": []
    },
    {
      "cell_type": "code",
      "metadata": {
        "colab": {
          "base_uri": "https://localhost:8080/",
          "height": 127
        },
        "id": "GmLHmSRBg0D_",
        "outputId": "430ffb67-27cf-4dfc-a34d-054f2b783554"
      },
      "source": [
        "plot_images(decoder)"
      ],
      "execution_count": null,
      "outputs": [
        {
          "output_type": "display_data",
          "data": {
            "image/png": "[encoded data removed]",
            "text/plain": [
              "<Figure size 1080x1080 with 10 Axes>"
            ]
          },
          "metadata": {
            "tags": [],
            "needs_background": "light"
          }
        }
      ]
    }
  ]
}